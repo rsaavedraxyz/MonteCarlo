{
 "cells": [
  {
   "cell_type": "markdown",
   "metadata": {},
   "source": [
    "# D-dimensional random walk (using object oriented programming)"
   ]
  },
  {
   "cell_type": "code",
   "execution_count": 13,
   "metadata": {},
   "outputs": [
    {
     "name": "stderr",
     "output_type": "stream",
     "text": [
      "WARNING: replacing module PlotSingleWalk.\n"
     ]
    }
   ],
   "source": [
    "using Random\n",
    "using PyPlot\n",
    "include(\"PlotSingleWalk.jl\");"
   ]
  },
  {
   "cell_type": "code",
   "execution_count": 14,
   "metadata": {},
   "outputs": [],
   "source": [
    "mutable struct Pos\n",
    "    x::Float64\n",
    "    y::Float64\n",
    "    z::Float64\n",
    "    dim::Int64\n",
    "end\n",
    "\n",
    "function Pos(x::Float64)\n",
    "    return Pos(x, 0.0, 0.0, 1)\n",
    "end\n",
    "\n",
    "function Pos(x::Float64, y::Float64)\n",
    "    return Pos(x, y, 0.0, 2)\n",
    "end\n",
    "\n",
    "function Pos(x::Float64, y::Float64, z::Float64)\n",
    "    return Pos(x, y, z, 3)\n",
    "end\n",
    "\n",
    "function Pos(dim::Int64)\n",
    "    if dim > 0 && dim < 4\n",
    "        return Pos(0.0, 0.0, 0.0, dim)\n",
    "    else\n",
    "        return \"Dimension bounds are (0,3)\"\n",
    "    end\n",
    "end\n",
    "\n",
    "function Base.getindex(p::Pos, i)\n",
    "    (i ≤ 0 || i > p.dim) && error(\"Index out of bounds!\")\n",
    "    if i == 1\n",
    "        return p.x\n",
    "    elseif i == 2\n",
    "        return p.y\n",
    "    else\n",
    "        return p.z\n",
    "    end\n",
    "end\n",
    "\n",
    "function Base.setindex!(p::Pos, val::Float64, key::Int64)\n",
    "    (key ≤ 0 || key > p.dim) && error(\"Index out of bounds!\")\n",
    "    if key == 1\n",
    "        p.x = val\n",
    "    elseif key == 2\n",
    "        p.y = val\n",
    "    else\n",
    "        p.z = val\n",
    "    end\n",
    "end\n",
    ";"
   ]
  },
  {
   "cell_type": "code",
   "execution_count": 15,
   "metadata": {},
   "outputs": [],
   "source": [
    "function Base.:+(a::Pos, b::Pos)\n",
    "    if a.dim == b.dim\n",
    "        return Pos(a.x + b.x, a.y + b.y, a.z + b.z, a.dim)\n",
    "    else\n",
    "        return \"$a and $b have different dimensions\"\n",
    "    end\n",
    "end;"
   ]
  },
  {
   "cell_type": "code",
   "execution_count": 16,
   "metadata": {},
   "outputs": [],
   "source": [
    "function generate_moves(dim::Int64)\n",
    "    moves = [Pos(dim) for i in 1:2*dim]\n",
    "    odds = filter(i->(isodd(i)), 1:2*dim)\n",
    "    for j in 1:dim\n",
    "        i = odds[j]\n",
    "        moves[i][j] = 1.0\n",
    "        moves[i+1][j] = -1.0\n",
    "    end\n",
    "    return moves\n",
    "end;"
   ]
  },
  {
   "cell_type": "code",
   "execution_count": 17,
   "metadata": {},
   "outputs": [],
   "source": [
    "function single_RW(nsteps::Int64=10; dim::Int64=2)\n",
    "    \"\"\" Generate a single random walk\n",
    "    nsteps = step length of the random walk\n",
    "    \"\"\"\n",
    "    moves = generate_moves(dim)\n",
    "    p_vec = [Pos(dim)]\n",
    "    ran_vec = rand(nsteps)\n",
    "    for i ∈ 1:nsteps\n",
    "        rn::Int64 = ceil(2*dim*ran_vec[i])\n",
    "        p = p_vec[i] + moves[rn]\n",
    "        push!(p_vec, p)\n",
    "    end\n",
    "    return p_vec\n",
    "end;"
   ]
  },
  {
   "cell_type": "code",
   "execution_count": 18,
   "metadata": {},
   "outputs": [
    {
     "data": {
      "image/png": "[encoded data removed]",
      "text/plain": [
       "Figure(PyObject <Figure size 400x400 with 1 Axes>)"
      ]
     },
     "metadata": {},
     "output_type": "display_data"
    }
   ],
   "source": [
    "nsteps = 100\n",
    "r_vec = single_RW(nsteps)\n",
    "x_vec = [r.x for r in r_vec]\n",
    "y_vec = [r.y for r in r_vec]\n",
    "PlotSingleWalk.plot_single_walk(x_vec, y_vec);"
   ]
  },
  {
   "cell_type": "code",
   "execution_count": null,
   "metadata": {},
   "outputs": [],
   "source": []
  }
 ],
 "metadata": {
  "kernelspec": {
   "display_name": "Julia 1.6.0",
   "language": "julia",
   "name": "julia-1.6"
  },
  "language_info": {
   "file_extension": ".jl",
   "mimetype": "application/julia",
   "name": "julia",
   "version": "1.6.0"
  }
 },
 "nbformat": 4,
 "nbformat_minor": 4
}
