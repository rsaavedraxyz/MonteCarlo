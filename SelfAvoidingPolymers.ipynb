{
 "cells": [
  {
   "cell_type": "markdown",
   "metadata": {},
   "source": [
    "# Scaling behavior of self-avoiding polymers"
   ]
  },
  {
   "cell_type": "markdown",
   "metadata": {},
   "source": [
    "Consider a self-avoiding polymer chain of $N$ monomers on a square lattice in two dimensions."
   ]
  },
  {
   "cell_type": "markdown",
   "metadata": {},
   "source": [
    "![SARW](SARW.png)"
   ]
  },
  {
   "cell_type": "markdown",
   "metadata": {},
   "source": [
    "Our task is to calculate the average end-to-end distance, for simple sampling it is calculated as\n",
    "\n",
    "$$ \\langle R^2\\rangle^\\text{simple} = \\frac{1}{M}\\sum_{m=1}^{M}R_m^2. $$\n",
    "\n",
    "For biased sampling it is calculated as\n",
    "\n",
    "$$ \\langle R^2\\rangle^\\text{biased} = \\frac{\\sum_{m=1}^{M}Q_mR^2_m}{\\sum_{i=1}Q_m}\\quad\\text{with}\\quad Q = \\Pi_{i=1}^{N}\\frac{l_i}{3}. $$\n",
    "\n",
    "The sum appearing on the expression for $\\langle R^2\\rangle$ runs over _configurations_. The product appearing on the weight $Q$ runs over _steps_, with $l_i$ the number of possible moves at step $i$."
   ]
  },
  {
   "cell_type": "markdown",
   "metadata": {},
   "source": [
    "We like to use tuples as `V = (x=1, y=1)`. Let us define some useful operations"
   ]
  },
  {
   "cell_type": "code",
   "execution_count": 1,
   "metadata": {},
   "outputs": [],
   "source": [
    "import Base.+\n",
    "import Base.-\n",
    "import Base.*\n",
    "+(a::NamedTuple{(:x,:y),Tuple{Int64,Int64}}, b::NamedTuple{(:x,:y),Tuple{Int64,Int64}}) = (x=a.x + b.x, y=a.y + b.y)\n",
    "-(a::NamedTuple{(:x,:y),Tuple{Int64,Int64}}, b::NamedTuple{(:x,:y),Tuple{Int64,Int64}}) = (x=a.x - b.x, y=a.y - b.y)\n",
    "-(a::NamedTuple{(:x,:y),Tuple{Int64,Int64}}) = (x=-a.x, y=-a.y);"
   ]
  },
  {
   "cell_type": "code",
   "execution_count": 2,
   "metadata": {},
   "outputs": [
    {
     "name": "stdout",
     "output_type": "stream",
     "text": [
      "(x = 3, y = 3)\n",
      "(x = -1, y = -1)\n",
      "(x = -2, y = -2)\n",
      "1\n",
      "2\n"
     ]
    }
   ],
   "source": [
    "A = (x=1, y=1)\n",
    "B = (x=2, y=2)\n",
    "C = A + B\n",
    "D = A - B\n",
    "println(C) # addition\n",
    "println(D) # substraction\n",
    "println(-B) # unary minus\n",
    "println(A.x)\n",
    "println(B.x)"
   ]
  },
  {
   "cell_type": "markdown",
   "metadata": {},
   "source": [
    "First we define a function that performs a single step of the walk"
   ]
  },
  {
   "cell_type": "code",
   "execution_count": 3,
   "metadata": {},
   "outputs": [],
   "source": [
    "function one_step(r, moves_avail, lattice, weight, step, l)\n",
    "    \"\"\" Generate one step of a self-avoiding random walk\n",
    "    r = head position\n",
    "    moves_avil = list of available moves\n",
    "    lattice = 2N+1 lattice\n",
    "    weight = walk weight probability\n",
    "    step = step id\n",
    "    l = head lattice id\n",
    "    \n",
    "    returns updated (r, moves_avil, lattice, weight, step)\n",
    "    \"\"\"\n",
    "    moves_all = [(x=1,y=0), (x=-1,y=0), (x=0,y=1), (x=0,y=-1)] # list of all possible moves\n",
    "    \n",
    "    # update head position\n",
    "    Δ = rand(moves_avail)\n",
    "    r += Δ\n",
    "    \n",
    "    # update lattice\n",
    "    lnew = l + Δ\n",
    "    lattice[lnew.x, lnew.y] = 1\n",
    "    \n",
    "    # update weight\n",
    "    weight *= length(moves_avail)/3.0\n",
    "    \n",
    "    # update available moves\n",
    "    moves_avail = filter(x->( x!=-Δ ), moves_all)\n",
    "    \n",
    "    # update step\n",
    "    step += 1\n",
    "    \n",
    "    return r, moves_avail, lattice, weight, step\n",
    "end;"
   ]
  },
  {
   "cell_type": "markdown",
   "metadata": {},
   "source": [
    "We define a function that returns the walk trajectory together with its associated weight"
   ]
  },
  {
   "cell_type": "code",
   "execution_count": 4,
   "metadata": {},
   "outputs": [],
   "source": [
    "function single_biased_SARW(nsteps::Int64=10)\n",
    "    \"\"\" Generate a single self-avoiding random walk using biased sampling\n",
    "    nsteps = number of steps of the random walk\n",
    "    \n",
    "    Returns (random walk trajectory, number of rejections)\n",
    "    \"\"\"\n",
    "    # Initialize position\n",
    "    r     = (x=0, y=0) # head position\n",
    "    r_vec = [(x=0, y=0)] # walk trajectory\n",
    "    l0    = (x=nsteps+1, y=nsteps+1) # lattice id at the origin\n",
    "    \n",
    "    # Initialize lattice\n",
    "    lattice = zeros(Int64, 2*nsteps+1, 2*nsteps+1) # 2N+1 square lattice\n",
    "    lattice[l0.x, l0.y] = 1 # mark lattice at origin\n",
    "    moves_all = [(x=1,y=0), (x=-1,y=0), (x=0,y=1), (x=0,y=-1)] # list of all possible moves\n",
    "    \n",
    "    weight = 1.0\n",
    "    step = 0\n",
    "    \n",
    "    # First step\n",
    "    r, moves_avail, lattice, weight, step = one_step(r, moves_all, lattice, weight, step, l0)\n",
    "    push!(r_vec, r) # update trajectory\n",
    "    \n",
    "    # Iterate\n",
    "    while true\n",
    "        if step >= nsteps # enough steps?\n",
    "            break\n",
    "        else\n",
    "            # update available moves\n",
    "            l = l0 + r # lattice id\n",
    "            for mov ∈ moves_avail\n",
    "                lnew = l + mov # possible new lattice id\n",
    "                if lattice[lnew.x, lnew.y] == 1 # is that lattice position occupied?\n",
    "                    moves_avail = filter(x->( x!=mov ), moves_avail)\n",
    "                end\n",
    "            end\n",
    "            \n",
    "            if length(moves_avail) == 0 # completely blocked?\n",
    "                break\n",
    "            else\n",
    "                r, moves_avail, lattice, weight, step = one_step(r, moves_avail, lattice, weight, step, l)\n",
    "                push!(r_vec, r)\n",
    "            end\n",
    "        end\n",
    "    end\n",
    "    return r_vec, weight\n",
    "end;"
   ]
  },
  {
   "cell_type": "code",
   "execution_count": 5,
   "metadata": {},
   "outputs": [],
   "source": [
    "function single_simple_SARW(nsteps::Int64=10)\n",
    "    \"\"\" Generate a single self-avoiding random walk using simple sampling\n",
    "    nsteps = number of steps of the random walk\n",
    "    \n",
    "    Returns (random walk trajectory, number of rejections)\n",
    "    \"\"\"\n",
    "    # Initialize position\n",
    "    r     = (x=0, y=0) # head position\n",
    "    r_vec = [(x=0, y=0)] # trajectory\n",
    "    \n",
    "    # Initialize lattice\n",
    "    l0                  = (x=nsteps+1, y=nsteps+1) # lattice id at the origin\n",
    "    lattice             = zeros(Int64, 2*nsteps+1, 2*nsteps+1) # 2N+1 square lattice\n",
    "    lattice[l0.x, l0.y] = 1 # mark the lattice at the origin\n",
    "    \n",
    "    moves_all       = [(x=1,y=0), (x=-1,y=0), (x=0,y=-1), (x=0,y=1)] # list of all possible moves\n",
    "    moves_avail     = [(x=1,y=0), (x=-1,y=0), (x=0,y=-1)] # available moves\n",
    "    step            = 0 # step id\n",
    "    weight::Float64 = 1.0 # weight of the random walk\n",
    "    \n",
    "    # Iterate\n",
    "    while true\n",
    "        if step >= nsteps # enough steps?\n",
    "            break\n",
    "        else\n",
    "            Δ = moves_avail[rand(1:3)] # new step displacement\n",
    "            l = l0 + r # lattice id\n",
    "            lnew = l + Δ # new step lattice id\n",
    "            if lattice[lnew.x, lnew.y] == 1 # occupied neighbour?\n",
    "                break\n",
    "            else\n",
    "                lattice[lnew.x, lnew.y] = 1 # mark lattice at new id\n",
    "                r += Δ # update head position\n",
    "                push!(r_vec, r) # update trajectory\n",
    "                step += 1 # update step id\n",
    "                moves_avail = filter(x->( x!=-Δ ), moves_all) # update availabe moves\n",
    "            end\n",
    "        end\n",
    "    end\n",
    "    return r_vec, weight\n",
    "end;\n"
   ]
  },
  {
   "cell_type": "code",
   "execution_count": 6,
   "metadata": {
    "jupyter": {
     "source_hidden": true
    }
   },
   "outputs": [],
   "source": [
    "include(\"RandomWalk.jl\")\n",
    "using .RandomWalk: plot_single_walk\n",
    "using Printf\n",
    "using PyPlot"
   ]
  },
  {
   "cell_type": "code",
   "execution_count": 7,
   "metadata": {
    "jupyter": {
     "source_hidden": true
    }
   },
   "outputs": [
    {
     "name": "stdout",
     "output_type": "stream",
     "text": [
      "Simple walk terminated after 8 steps\n",
      "Weight of the random walk Q=1.00000000\n"
     ]
    },
    {
     "data": {
      "image/png": "[encoded data removed]",
      "text/plain": [
       "Figure(PyObject <Figure size 400x400 with 2 Axes>)"
      ]
     },
     "metadata": {},
     "output_type": "display_data"
    },
    {
     "name": "stdout",
     "output_type": "stream",
     "text": [
      "Biased walk terminated after 17 steps\n",
      "Weight of the random walk Q=0.08779150\n"
     ]
    }
   ],
   "source": [
    "nsteps = 50\n",
    "\n",
    "subplot(121)\n",
    "r_vec, weight_simple = single_simple_SARW(nsteps)\n",
    "x_vec = [r.x for r in r_vec]\n",
    "y_vec = [r.y for r in r_vec]\n",
    "terminated_simple = length(r_vec) - 1\n",
    "plot_single_walk(x_vec, y_vec);\n",
    "title(\"Simple\")\n",
    "\n",
    "subplot(122)\n",
    "r_vec, weight_biased = single_biased_SARW(nsteps)\n",
    "x_vec = [r.x for r in r_vec]\n",
    "y_vec = [r.y for r in r_vec]\n",
    "terminated_biased = length(r_vec) - 1\n",
    "plot_single_walk(x_vec, y_vec);\n",
    "title(\"Biased\")\n",
    "\n",
    "@printf(\"Simple walk terminated after %i steps\\n\", terminated_simple)\n",
    "@printf(\"Weight of the random walk Q=%.8f\\n\",weight_simple)\n",
    "@printf(\"Biased walk terminated after %i steps\\n\", terminated_biased)\n",
    "@printf(\"Weight of the random walk Q=%.8f\\n\",weight_biased)"
   ]
  },
  {
   "cell_type": "code",
   "execution_count": 8,
   "metadata": {},
   "outputs": [],
   "source": [
    "function sample_SARW(single_SARW, nsteps::Int64=50, nsamples::Int64=100)\n",
    "    \"\"\" Sample the self-avoiding random walk\n",
    "    single_SARW = function generating a single self-avoiding random walk\n",
    "    nsteps = number of steps of the walk\n",
    "    nsamples = number of samples\n",
    "    \n",
    "    Returns (<r²>, <r⁴>, number of terminations, number of rejections)\n",
    "    \"\"\"\n",
    "    r2av_vec = zeros(Float64, nsteps)\n",
    "    nsamples_vec = zeros(Int64, nsteps)\n",
    "    nterminations_vec = zeros(Int64, nsteps)\n",
    "    weight_vec = zeros(Float64, nsteps)\n",
    "    \n",
    "    for n ∈ 1:nsteps # loop over steps\n",
    "        \n",
    "        s = 0 # sample id\n",
    "        while s < nsamples # loop over samples\n",
    "            traj, weight = single_SARW(n) # generate single walk (get corresponding weight)\n",
    "            \n",
    "            if length(traj) - 1 == n # has the walk terminated at step n?\n",
    "                rfin = last(traj) # end point of the walk\n",
    "                r2 = rfin.x^2 + rfin.y^2\n",
    "                r2av_vec[n] += weight*r2\n",
    "                weight_vec[n] += weight\n",
    "                s += 1\n",
    "                \n",
    "            else # walk terminated earlier\n",
    "                nterminations_vec[n] += 1\n",
    "            end\n",
    "            \n",
    "        end\n",
    "        \n",
    "    end\n",
    "    \n",
    "    r2av_vec ./= weight_vec;\n",
    "    return r2av_vec, nterminations_vec\n",
    "end;"
   ]
  },
  {
   "cell_type": "markdown",
   "metadata": {},
   "source": [
    "Sample single and biased self-avoiding random walks"
   ]
  },
  {
   "cell_type": "code",
   "execution_count": 9,
   "metadata": {},
   "outputs": [],
   "source": [
    "nsteps = 50\n",
    "nsamples = 1000\n",
    "r2av_vec_simple, nterminations_simple = sample_SARW(single_simple_SARW, nsteps, nsamples);\n",
    "r2av_vec_biased, nterminations_biased = sample_SARW(single_biased_SARW, nsteps, nsamples);"
   ]
  },
  {
   "cell_type": "markdown",
   "metadata": {},
   "source": [
    "No we plot $N$ vs $<R^2>$"
   ]
  },
  {
   "cell_type": "code",
   "execution_count": 10,
   "metadata": {
    "jupyter": {
     "source_hidden": true
    }
   },
   "outputs": [
    {
     "data": {
      "image/png": "[encoded data removed]",
      "text/plain": [
       "Figure(PyObject <Figure size 400x300 with 1 Axes>)"
      ]
     },
     "metadata": {},
     "output_type": "display_data"
    }
   ],
   "source": [
    "PyPlot.rc(\"figure\", figsize = (4, 3))\n",
    "\n",
    "step_vec = [s for s ∈ 1.0:1.0:nsteps]\n",
    "linear = [s^(2*0.72) for s ∈ step_vec]\n",
    "\n",
    "loglog(step_vec, r2av_vec_simple, lw=0, c=\"b\", marker=\".\", label=\"Simple sampling\")\n",
    "loglog(step_vec, r2av_vec_biased, lw=0, c=\"r\", marker=\".\", label=\"Biased sampling\")\n",
    "loglog(step_vec, linear, c=\"k\", lw=2, ls=\"--\", label=L\"$\\nu=0.72$\")\n",
    "\n",
    "xlim(first(step_vec), last(step_vec))\n",
    "\n",
    "xlabel(L\"\\log N\")\n",
    "ylabel(L\"\\log\\langle R^2\\rangle\")\n",
    "legend();"
   ]
  },
  {
   "cell_type": "markdown",
   "metadata": {},
   "source": [
    "Check the number of terminations and number of rejections"
   ]
  },
  {
   "cell_type": "code",
   "execution_count": 11,
   "metadata": {
    "jupyter": {
     "source_hidden": true
    }
   },
   "outputs": [
    {
     "data": {
      "image/png": "[encoded data removed]",
      "text/plain": [
       "Figure(PyObject <Figure size 800x300 with 2 Axes>)"
      ]
     },
     "metadata": {},
     "output_type": "display_data"
    }
   ],
   "source": [
    "PyPlot.rc(\"figure\", figsize = (8, 3))\n",
    "\n",
    "subplot(121)\n",
    "plot(step_vec, nterminations_simple, marker=\".\", c=\"b\", label=\"Simple sampling\")\n",
    "\n",
    "xlim(first(step_vec), last(step_vec))\n",
    "xlabel(L\"N\")\n",
    "ylabel(\"# of terminations\")\n",
    "legend();\n",
    "\n",
    "subplot(122)\n",
    "plot(step_vec, nterminations_biased, marker=\".\", c=\"r\", label=\"Biased sampling\")\n",
    "\n",
    "xlim(first(step_vec), last(step_vec))\n",
    "xlabel(L\"N\")\n",
    "ylabel(\"# of terminations\")\n",
    "legend();\n",
    "\n",
    "tight_layout()"
   ]
  }
 ],
 "metadata": {
  "kernelspec": {
   "display_name": "Julia 1.6.0",
   "language": "julia",
   "name": "julia-1.6"
  },
  "language_info": {
   "file_extension": ".jl",
   "mimetype": "application/julia",
   "name": "julia",
   "version": "1.6.1"
  }
 },
 "nbformat": 4,
 "nbformat_minor": 4
}
