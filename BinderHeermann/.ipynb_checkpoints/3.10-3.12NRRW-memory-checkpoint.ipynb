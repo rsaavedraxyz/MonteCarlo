{
 "cells": [
  {
   "cell_type": "markdown",
   "metadata": {},
   "source": [
    "# Nonreversal random walk (memory approach)"
   ]
  },
  {
   "cell_type": "markdown",
   "metadata": {},
   "source": [
    "## NRRW with memory"
   ]
  },
  {
   "cell_type": "code",
   "execution_count": null,
   "metadata": {},
   "outputs": [],
   "source": [
    "function single_memory_NRRW(nsteps::Int64=10)\n",
    "    \"\"\" Generate a single nonreversal random walk with memory\n",
    "    nsteps = number of steps of the random walk\n",
    "    \"\"\"\n",
    "    x, y = 0.0, 0.0\n",
    "    x_vec, y_vec = zeros(Float64, nsteps+1), zeros(Float64, nsteps+1)\n",
    "    # first step\n",
    "    moves_all = [[+1.0,0.0], [-1.0,0.0], [0.0,+1.0], [0.0,-1.0]]\n",
    "    rn::Int64 = ceil(4*rand())\n",
    "    x += moves_all[rn][1]\n",
    "    y += moves_all[rn][2]\n",
    "    move_forbid = - moves_all[rn]\n",
    "    moves_temp = filter(move->(move != move_forbid), moves)\n",
    "    x_vec[2], y_vec[2] = x, y\n",
    "    # walk\n",
    "    for i ∈ 2:nsteps\n",
    "        rn = ceil(3*rand())\n",
    "        x += moves_temp[rn][1]\n",
    "        y += moves_temp[rn][2]\n",
    "        move_forbid = -1.0 .* moves_temp[rn]\n",
    "        moves_temp = filter(move->(move != move_forbid), moves_all)\n",
    "        x_vec[i+1], y_vec[i+1] = x, y\n",
    "    end\n",
    "    return x_vec, y_vec\n",
    "end;"
   ]
  },
  {
   "cell_type": "code",
   "execution_count": null,
   "metadata": {},
   "outputs": [],
   "source": [
    "PyPlot.rc(\"figure\", figsize = (4, 4))\n",
    "\n",
    "# get RW\n",
    "nsteps = 20\n",
    "x_vec, y_vec = single_memory_NRRW(nsteps)\n",
    "\n",
    "# get arrows\n",
    "xx_vec = [xi + (xf - xi)/2 for (xi, xf) in zip(x_vec[1:1:end], x_vec[2:1:end])]\n",
    "yy_vec = [yi + (yf - yi)/2 for (yi, yf) in zip(y_vec[1:1:end], y_vec[2:1:end])]\n",
    "vx_vec = [xf - xi for (xi, xf) in zip(x_vec[1:1:end], x_vec[2:1:end])]\n",
    "vy_vec = [yf - yi for (yi, yf) in zip(y_vec[1:1:end], y_vec[2:1:end])]\n",
    "\n",
    "# plot\n",
    "plot(x_vec, y_vec, color=\"b\", lw=3)\n",
    "quiver(xx_vec, yy_vec, vx_vec, vy_vec,\n",
    "    color=\"b\", scale_units=\"xy\", scale=2, pivot=\"mid\", \n",
    "    headwidth=10, headlength=10, headaxislength=5)\n",
    "scatter(first(x_vec), first(y_vec), s=60, marker=\"o\", color=\"b\")\n",
    "scatter(last(x_vec), last(y_vec), s=60, marker=\"s\", color=\"b\")\n",
    "\n",
    "# formatting\n",
    "xlo, xhi = minimum(x_vec), maximum(x_vec)\n",
    "ylo, yhi = minimum(y_vec), maximum(y_vec)\n",
    "xlabel(\"X\")\n",
    "ylabel(\"Y\")\n",
    "vlines(xlo:xhi, ylo, yhi, color=\"k\", alpha=0.2)\n",
    "hlines(ylo:yhi, xlo, xhi, color=\"k\", alpha=0.2)\n",
    "#xticks([]), yticks([]);\n",
    "axis(\"equal\");\n",
    "#axis(\"off\");"
   ]
  },
  {
   "cell_type": "code",
   "execution_count": null,
   "metadata": {},
   "outputs": [],
   "source": []
  }
 ],
 "metadata": {
  "kernelspec": {
   "display_name": "Julia 1.6.0",
   "language": "julia",
   "name": "julia-1.6"
  },
  "language_info": {
   "file_extension": ".jl",
   "mimetype": "application/julia",
   "name": "julia",
   "version": "1.6.0"
  }
 },
 "nbformat": 4,
 "nbformat_minor": 4
}
