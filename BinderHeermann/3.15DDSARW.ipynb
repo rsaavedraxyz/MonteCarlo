{
 "cells": [
  {
   "cell_type": "markdown",
   "metadata": {},
   "source": [
    "# D-dimensional self-avoiding random walk"
   ]
  },
  {
   "cell_type": "code",
   "execution_count": 1,
   "metadata": {},
   "outputs": [],
   "source": [
    "using Random\n",
    "using PyPlot\n",
    "include(\"PlotSingleWalk.jl\");"
   ]
  },
  {
   "cell_type": "code",
   "execution_count": 2,
   "metadata": {},
   "outputs": [],
   "source": [
    "function available_moves(dim::Int64)\n",
    "    moves = [zeros(Float64,dim) for i ∈ 1:2*dim]\n",
    "    odds = filter(i->(isodd(i)), 1:2*dim)\n",
    "    for j in 1:dim\n",
    "        i = odds[j]\n",
    "        moves[i][j] = 1.0\n",
    "        moves[i+1][j] = -1.0\n",
    "    end\n",
    "    return moves\n",
    "end;"
   ]
  },
  {
   "cell_type": "code",
   "execution_count": 3,
   "metadata": {},
   "outputs": [
    {
     "data": {
      "text/plain": [
       "10-element Vector{Vector{Float64}}:\n",
       " [1.0, 0.0, 0.0, 0.0, 0.0]\n",
       " [-1.0, 0.0, 0.0, 0.0, 0.0]\n",
       " [0.0, 1.0, 0.0, 0.0, 0.0]\n",
       " [0.0, -1.0, 0.0, 0.0, 0.0]\n",
       " [0.0, 0.0, 1.0, 0.0, 0.0]\n",
       " [0.0, 0.0, -1.0, 0.0, 0.0]\n",
       " [0.0, 0.0, 0.0, 1.0, 0.0]\n",
       " [0.0, 0.0, 0.0, -1.0, 0.0]\n",
       " [0.0, 0.0, 0.0, 0.0, 1.0]\n",
       " [0.0, 0.0, 0.0, 0.0, -1.0]"
      ]
     },
     "execution_count": 3,
     "metadata": {},
     "output_type": "execute_result"
    }
   ],
   "source": [
    "available_moves(5)"
   ]
  },
  {
   "cell_type": "markdown",
   "metadata": {},
   "source": [
    "## Ignorant SARW"
   ]
  },
  {
   "cell_type": "code",
   "execution_count": 4,
   "metadata": {},
   "outputs": [],
   "source": [
    "function ignorant_one_step(ndim::Int64=2)\n",
    "    rn::Int64 = ceil(2*ndim*rand())\n",
    "    x = zeros(Float64, ndim)\n",
    "    for i ∈ 1:ndim\n",
    "        j::Int64 = 2*i\n",
    "        if rn == j-1\n",
    "            x[i] = 1.0\n",
    "        elseif rn == j\n",
    "            x[i] = -1.0\n",
    "        end\n",
    "    end\n",
    "    return x\n",
    "end;"
   ]
  },
  {
   "cell_type": "code",
   "execution_count": 5,
   "metadata": {},
   "outputs": [
    {
     "name": "stdout",
     "output_type": "stream",
     "text": [
      "1d [-1.0]\n",
      "2d [0.0, -1.0]\n",
      "3d [-1.0, 0.0, 0.0]\n",
      "4d [0.0, 1.0, 0.0, 0.0]\n",
      "5d [0.0, 1.0, 0.0, 0.0, 0.0]\n"
     ]
    }
   ],
   "source": [
    "for d ∈ 1:5\n",
    "    x = ignorant_one_step(d)\n",
    "    println(\"$(d)d $x\")\n",
    "end"
   ]
  },
  {
   "cell_type": "code",
   "execution_count": 65,
   "metadata": {},
   "outputs": [],
   "source": [
    "function single_ignorant_SARW(nsteps::Int64=10; ndim::Int64=2)\n",
    "    \"\"\" Generate a single ignorant self-avoiding random walk in d-dimensions\n",
    "    nsteps = number of steps of the random walk\n",
    "    ndim = number of dimensions\n",
    "    \"\"\"\n",
    "    traj = [zeros(Float64, ndim)]\n",
    "    x = zeros(Float64, ndim)\n",
    "    lattice = Dict([nsteps+1,nsteps+1]=>true)\n",
    "    step = 1\n",
    "    moves = available_moves(ndim)\n",
    "    while true\n",
    "        Δ = ignorant_one_step(ndim)\n",
    "        lid = fill(Float64(nsteps)+1.0, ndim)\n",
    "        lid_new = fill(Float64(nsteps)+1.0, ndim)\n",
    "        for d ∈ 1:ndim\n",
    "            lid[d] += x[d]\n",
    "            lid_new[d] += Δ[d] + x[d]\n",
    "        end\n",
    "        trapped = [false for i in 1:2*ndim]\n",
    "        for d ∈ 1:ndim\n",
    "            j::Int64 = 2*d\n",
    "            trapped[j-1] = haskey(lattice, lid.+moves[j-1])\n",
    "            trapped[j] = haskey(lattice, lid.+moves[j])\n",
    "        end\n",
    "        if step == nsteps\n",
    "            break\n",
    "        elseif all(trapped)\n",
    "            break\n",
    "        elseif !haskey(lattice, lid_new)\n",
    "            lattice[lid_new] = true\n",
    "            x += Δ\n",
    "            step += 1\n",
    "            push!(traj, x)\n",
    "        end\n",
    "    end\n",
    "    println(\"Terminated at step = $step\")\n",
    "    return traj\n",
    "end;"
   ]
  },
  {
   "cell_type": "code",
   "execution_count": 66,
   "metadata": {},
   "outputs": [
    {
     "name": "stdout",
     "output_type": "stream",
     "text": [
      "Terminated at step = 10\n"
     ]
    },
    {
     "data": {
      "text/plain": [
       "10-element Vector{Vector{Float64}}:\n",
       " [0.0, 0.0, 0.0, 0.0, 0.0]\n",
       " [0.0, 0.0, 1.0, 0.0, 0.0]\n",
       " [0.0, 0.0, 1.0, 0.0, -1.0]\n",
       " [1.0, 0.0, 1.0, 0.0, -1.0]\n",
       " [1.0, 0.0, 1.0, 1.0, -1.0]\n",
       " [0.0, 0.0, 1.0, 1.0, -1.0]\n",
       " [0.0, 0.0, 1.0, 1.0, 0.0]\n",
       " [0.0, 0.0, 0.0, 1.0, 0.0]\n",
       " [0.0, -1.0, 0.0, 1.0, 0.0]\n",
       " [1.0, -1.0, 0.0, 1.0, 0.0]"
      ]
     },
     "execution_count": 66,
     "metadata": {},
     "output_type": "execute_result"
    }
   ],
   "source": [
    "single_ignorant_SARW(10,ndim=5)"
   ]
  },
  {
   "cell_type": "code",
   "execution_count": 67,
   "metadata": {},
   "outputs": [
    {
     "data": {
      "image/png": "[encoded data removed]",
      "text/plain": [
       "Figure(PyObject <Figure size 400x400 with 1 Axes>)"
      ]
     },
     "metadata": {},
     "output_type": "display_data"
    },
    {
     "name": "stdout",
     "output_type": "stream",
     "text": [
      "Terminated at step = 72\n"
     ]
    }
   ],
   "source": [
    "nsteps = 100\n",
    "r_vec = single_ignorant_SARW(nsteps)\n",
    "x_vec = [r[1] for r in r_vec]\n",
    "y_vec = [r[2] for r in r_vec]\n",
    "PlotSingleWalk.plot_single_walk(x_vec, y_vec);"
   ]
  },
  {
   "cell_type": "markdown",
   "metadata": {},
   "source": [
    "## Biased SARW"
   ]
  },
  {
   "cell_type": "code",
   "execution_count": 17,
   "metadata": {},
   "outputs": [],
   "source": [
    "function biased_one_step(moves::Vector{Float64})\n",
    "    ndim::Int64 = length(moves) + 1\n",
    "    rn::Int64 = ceil((ndim-1)*rand())\n",
    "    return moves[rn]\n",
    "end;"
   ]
  },
  {
   "cell_type": "code",
   "execution_count": 18,
   "metadata": {},
   "outputs": [
    {
     "name": "stdout",
     "output_type": "stream",
     "text": [
      "Available moves: [[1.0, 0.0, 0.0], [-1.0, 0.0, 0.0], [0.0, 1.0, 0.0], [0.0, -1.0, 0.0], [0.0, 0.0, 1.0]]\n"
     ]
    },
    {
     "data": {
      "text/plain": [
       "3-element Vector{Float64}:\n",
       "  0.0\n",
       " -1.0\n",
       "  0.0"
      ]
     },
     "execution_count": 18,
     "metadata": {},
     "output_type": "execute_result"
    }
   ],
   "source": [
    "ndim = 3\n",
    "moves_all = available_moves(ndim)\n",
    "moves_avail = moves_all[1:end-1]\n",
    "println(\"Available moves: $moves_avail\")\n",
    "biased_one_step(moves_avail)"
   ]
  },
  {
   "cell_type": "code",
   "execution_count": 71,
   "metadata": {},
   "outputs": [],
   "source": [
    "function single_biased_SARW(nsteps::Int64=10; ndim::Int64=2)\n",
    "    \"\"\" Generate a single biased self-avoiding random walk in d-dimensions\n",
    "    nsteps = number of steps of the random walk\n",
    "    ndim = number of dimensions\n",
    "    \"\"\"\n",
    "    traj = [zeros(Float64, ndim)]\n",
    "    x = zeros(Float64, ndim)\n",
    "    lattice = Dict([nsteps+1,nsteps+1]=>true)\n",
    "    moves_all = available_moves(ndim)\n",
    "    step = 1\n",
    "    while true\n",
    "        moves_avail = filter(m->(m!=x),moves_all)\n",
    "        Δ = biased_one_step(moves_avail)\n",
    "        lid = fill(Float64(nsteps)+1.0, ndim)\n",
    "        lid_new = fill(Float64(nsteps)+1.0, ndim)\n",
    "        for d ∈ 1:ndim\n",
    "            lid[d] += x[d]\n",
    "            lid_new[d] += Δ[d] + x[d]\n",
    "        end\n",
    "        trapped = [false for i in 1:2*ndim]\n",
    "        for d ∈ 1:ndim\n",
    "            j::Int64 = 2*d\n",
    "            trapped[j-1] = haskey(lattice, lid.+moves_all[j-1])\n",
    "            trapped[j] = haskey(lattice, lid.+moves_all[j])\n",
    "        end\n",
    "        if step == nsteps\n",
    "            break\n",
    "        elseif all(trapped)\n",
    "            break\n",
    "        elseif !haskey(lattice, lid_new)\n",
    "            lattice[lid_new] = true\n",
    "            x += Δ\n",
    "            step += 1\n",
    "            push!(traj, x)\n",
    "        end\n",
    "    end\n",
    "    println(\"Terminated at step = $step\")\n",
    "    return traj\n",
    "end;"
   ]
  },
  {
   "cell_type": "code",
   "execution_count": 72,
   "metadata": {},
   "outputs": [
    {
     "name": "stdout",
     "output_type": "stream",
     "text": [
      "Terminated at step = 10\n"
     ]
    },
    {
     "data": {
      "text/plain": [
       "10-element Vector{Vector{Float64}}:\n",
       " [0.0, 0.0]\n",
       " [1.0, 0.0]\n",
       " [1.0, -1.0]\n",
       " [2.0, -1.0]\n",
       " [2.0, 0.0]\n",
       " [2.0, 1.0]\n",
       " [2.0, 2.0]\n",
       " [2.0, 3.0]\n",
       " [1.0, 3.0]\n",
       " [0.0, 3.0]"
      ]
     },
     "execution_count": 72,
     "metadata": {},
     "output_type": "execute_result"
    }
   ],
   "source": [
    "single_biased_SARW(10,ndim=2)"
   ]
  },
  {
   "cell_type": "code",
   "execution_count": 76,
   "metadata": {},
   "outputs": [
    {
     "data": {
      "image/png": "[encoded data removed]",
      "text/plain": [
       "Figure(PyObject <Figure size 400x400 with 1 Axes>)"
      ]
     },
     "metadata": {},
     "output_type": "display_data"
    },
    {
     "name": "stdout",
     "output_type": "stream",
     "text": [
      "Terminated at step = 62\n"
     ]
    }
   ],
   "source": [
    "nsteps = 100\n",
    "r_vec = single_biased_SARW(nsteps)\n",
    "x_vec = [r[1] for r in r_vec]\n",
    "y_vec = [r[2] for r in r_vec]\n",
    "PlotSingleWalk.plot_single_walk(x_vec, y_vec);"
   ]
  },
  {
   "cell_type": "code",
   "execution_count": null,
   "metadata": {},
   "outputs": [],
   "source": []
  }
 ],
 "metadata": {
  "kernelspec": {
   "display_name": "Julia 1.6.0",
   "language": "julia",
   "name": "julia-1.6"
  },
  "language_info": {
   "file_extension": ".jl",
   "mimetype": "application/julia",
   "name": "julia",
   "version": "1.6.0"
  }
 },
 "nbformat": 4,
 "nbformat_minor": 4
}
