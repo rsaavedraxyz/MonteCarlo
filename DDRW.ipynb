{
 "cells": [
  {
   "cell_type": "markdown",
   "metadata": {},
   "source": [
    "# D-dimensional random walk"
   ]
  },
  {
   "cell_type": "code",
   "execution_count": 1,
   "metadata": {},
   "outputs": [],
   "source": [
    "using Random\n",
    "using PyPlot\n",
    "include(\"PlotSingleWalk.jl\");"
   ]
  },
  {
   "cell_type": "code",
   "execution_count": 2,
   "metadata": {},
   "outputs": [],
   "source": [
    "function generate_one_step(ndim::Int64=2)\n",
    "    rn::Int64 = ceil(2*ndim*rand())\n",
    "    x = zeros(Float64, ndim)\n",
    "    for i ∈ 1:ndim\n",
    "        j::Int64 = 2*i\n",
    "        if rn == j-1\n",
    "            x[i] = 1.0\n",
    "        elseif rn == j\n",
    "            x[i] = -1.0\n",
    "        end\n",
    "    end\n",
    "    return x\n",
    "end;"
   ]
  },
  {
   "cell_type": "code",
   "execution_count": 19,
   "metadata": {},
   "outputs": [
    {
     "name": "stdout",
     "output_type": "stream",
     "text": [
      "1d [-1.0]\n",
      "2d [0.0, 1.0]\n",
      "3d [1.0, 0.0, 0.0]\n",
      "4d [0.0, 0.0, 1.0, 0.0]\n",
      "5d [0.0, 0.0, 0.0, 1.0, 0.0]\n"
     ]
    }
   ],
   "source": [
    "for d ∈ 1:5\n",
    "    x = generate_one_step(d)\n",
    "    println(\"$(d)d $x\")\n",
    "end"
   ]
  },
  {
   "cell_type": "code",
   "execution_count": 55,
   "metadata": {},
   "outputs": [],
   "source": [
    "function single_RW(nsteps::Int64=10; ndim::Int64=2)\n",
    "    \"\"\" Generate a single self-avoiding random walk in d-dimensions\n",
    "    nsteps = number of steps of the random walk\n",
    "    ndim = number of dimensions\n",
    "    \"\"\"\n",
    "    xvec = [zeros(Float64, ndim)]\n",
    "    x = zeros(Float64, ndim)\n",
    "    for step ∈ 1:nsteps\n",
    "        Δ = generate_one_step(ndim)\n",
    "        x += Δ\n",
    "        push!(xvec, x)\n",
    "    end\n",
    "    return xvec\n",
    "end;"
   ]
  },
  {
   "cell_type": "code",
   "execution_count": 56,
   "metadata": {},
   "outputs": [
    {
     "name": "stdout",
     "output_type": "stream",
     "text": [
      "Walk in 1-dimensions\n",
      "xi = [0.0]\n",
      "xi = [1.0]\n",
      "xi = [0.0]\n",
      "xi = [1.0]\n",
      "xi = [2.0]\n",
      "xi = [3.0]\n",
      "xi = [4.0]\n",
      "Walk in 2-dimensions\n",
      "xi = [0.0, 0.0]\n",
      "xi = [-1.0, 0.0]\n",
      "xi = [-1.0, -1.0]\n",
      "xi = [-2.0, -1.0]\n",
      "xi = [-2.0, -2.0]\n",
      "xi = [-2.0, -3.0]\n",
      "xi = [-2.0, -4.0]\n",
      "Walk in 3-dimensions\n",
      "xi = [0.0, 0.0, 0.0]\n",
      "xi = [0.0, -1.0, 0.0]\n",
      "xi = [0.0, 0.0, 0.0]\n",
      "xi = [0.0, 1.0, 0.0]\n",
      "xi = [1.0, 1.0, 0.0]\n",
      "xi = [0.0, 1.0, 0.0]\n",
      "xi = [1.0, 1.0, 0.0]\n",
      "Walk in 4-dimensions\n",
      "xi = [0.0, 0.0, 0.0, 0.0]\n",
      "xi = [0.0, 0.0, -1.0, 0.0]\n",
      "xi = [0.0, 1.0, -1.0, 0.0]\n",
      "xi = [0.0, 1.0, 0.0, 0.0]\n",
      "xi = [0.0, 1.0, -1.0, 0.0]\n",
      "xi = [0.0, 1.0, -2.0, 0.0]\n",
      "xi = [-1.0, 1.0, -2.0, 0.0]\n",
      "Walk in 5-dimensions\n",
      "xi = [0.0, 0.0, 0.0, 0.0, 0.0]\n",
      "xi = [0.0, 0.0, 0.0, 0.0, -1.0]\n",
      "xi = [0.0, 0.0, 0.0, 0.0, -2.0]\n",
      "xi = [1.0, 0.0, 0.0, 0.0, -2.0]\n",
      "xi = [0.0, 0.0, 0.0, 0.0, -2.0]\n",
      "xi = [0.0, 0.0, 1.0, 0.0, -2.0]\n",
      "xi = [0.0, 0.0, 2.0, 0.0, -2.0]\n"
     ]
    }
   ],
   "source": [
    "for d ∈ 1:5\n",
    "    xvec = single_RW(6, ndim=d)\n",
    "    println(\"Walk in $(d)-dimensions\")\n",
    "    for xi ∈ xvec\n",
    "        @show xi\n",
    "    end\n",
    "end"
   ]
  },
  {
   "cell_type": "code",
   "execution_count": 57,
   "metadata": {},
   "outputs": [
    {
     "data": {
      "image/png": "[encoded data removed]",
      "text/plain": [
       "Figure(PyObject <Figure size 400x400 with 1 Axes>)"
      ]
     },
     "metadata": {},
     "output_type": "display_data"
    }
   ],
   "source": [
    "nsteps = 100\n",
    "xd = single_RW(nsteps)\n",
    "x_vec = [xi[1] for xi in xd]\n",
    "y_vec = [yi[2] for yi in xd]\n",
    "PlotSingleWalk.plot_single_walk(x_vec, y_vec);"
   ]
  },
  {
   "cell_type": "code",
   "execution_count": null,
   "metadata": {},
   "outputs": [],
   "source": []
  }
 ],
 "metadata": {
  "kernelspec": {
   "display_name": "Julia 1.6.0",
   "language": "julia",
   "name": "julia-1.6"
  },
  "language_info": {
   "file_extension": ".jl",
   "mimetype": "application/julia",
   "name": "julia",
   "version": "1.6.0"
  }
 },
 "nbformat": 4,
 "nbformat_minor": 4
}
